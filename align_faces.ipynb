{
 "cells": [
  {
   "cell_type": "code",
   "execution_count": 23,
   "metadata": {},
   "outputs": [
    {
     "name": "stdout",
     "output_type": "stream",
     "text": [
      "1.4.1\n"
     ]
    }
   ],
   "source": [
    "from ffhq_align import image_align\n",
    "import os\n",
    "import face_alignment\n",
    "print(face_alignment.__version__)\n",
    "import torch\n",
    "import imageio as io\n",
    "import matplotlib.pyplot as plt\n",
    "\n",
    "src = 'raw'\n",
    "dst = 'aligned'\n",
    "\n",
    "landmarks_detector = face_alignment.FaceAlignment(face_alignment.LandmarksType.TWO_D, device='mps', flip_input=False)\n",
    "\n",
    "# image_path = \"raw/IMG_0925.jpeg\"\n",
    "# input = io.imread(image_path)\n",
    "# preds = landmarks_detector.get_landmarks(input)\n",
    "\n",
    "# det = landmarks_detector.get_landmarks_from_image(image_path)\n",
    "# plt.imshow(input)\n",
    "\n",
    "\n",
    "\n",
    "# det = [det[0]]\n",
    "\n",
    "# for detection in det:\n",
    "#     plt.scatter(detection[:,0], detection[:,1], 2)\n",
    "\n",
    "\n",
    "\n",
    "for img_name in os.listdir(src):\n",
    "    raw_img_path = os.path.join(src, img_name)\n",
    "\n",
    "    for i, face_landmarks in enumerate([landmarks_detector.get_landmarks_from_image(raw_img_path)[0]], start=1):\n",
    "\n",
    "        aligned_face_path = os.path.join(dst, f'align-{img_name}')\n",
    "\n",
    "        image_align(raw_img_path, aligned_face_path, face_landmarks)\n",
    "        \n",
    "\t\t# empty cache\n",
    "        torch.mps.empty_cache()\n",
    "\t\t"
   ]
  }
 ],
 "metadata": {
  "kernelspec": {
   "display_name": "facemorphing",
   "language": "python",
   "name": "python3"
  },
  "language_info": {
   "codemirror_mode": {
    "name": "ipython",
    "version": 3
   },
   "file_extension": ".py",
   "mimetype": "text/x-python",
   "name": "python",
   "nbconvert_exporter": "python",
   "pygments_lexer": "ipython3",
   "version": "3.8.20"
  }
 },
 "nbformat": 4,
 "nbformat_minor": 2
}
